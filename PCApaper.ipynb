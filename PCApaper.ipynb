{
 "cells": [
  {
   "cell_type": "markdown",
   "metadata": {},
   "source": [
    "# Visual derivation of PCA using Spectra <a class=\"tocSkip\">"
   ]
  },
  {
   "cell_type": "markdown",
   "metadata": {
    "toc": true
   },
   "source": [
    "<h1>Table of Contents<span class=\"tocSkip\"></span></h1>\n",
    "<div class=\"toc\"><ul class=\"toc-item\"><li><span><a href=\"#Introduction.\" data-toc-modified-id=\"Introduction.-1\"><span class=\"toc-item-num\">1&nbsp;&nbsp;</span>Introduction.</a></span><ul class=\"toc-item\"><li><span><a href=\"#Underlying-concepts-of-PCA\" data-toc-modified-id=\"Underlying-concepts-of-PCA-1.1\"><span class=\"toc-item-num\">1.1&nbsp;&nbsp;</span>Underlying concepts of PCA</a></span></li></ul></li><li><span><a href=\"#Methods\" data-toc-modified-id=\"Methods-2\"><span class=\"toc-item-num\">2&nbsp;&nbsp;</span>Methods</a></span><ul class=\"toc-item\"><li><span><a href=\"#Simulated-molecular-signals\" data-toc-modified-id=\"Simulated-molecular-signals-2.1\"><span class=\"toc-item-num\">2.1&nbsp;&nbsp;</span>Simulated molecular signals</a></span></li><li><span><a href=\"#Simulated-Complex-Mixtures\" data-toc-modified-id=\"Simulated-Complex-Mixtures-2.2\"><span class=\"toc-item-num\">2.2&nbsp;&nbsp;</span>Simulated Complex Mixtures</a></span></li><li><span><a href=\"#PCA\" data-toc-modified-id=\"PCA-2.3\"><span class=\"toc-item-num\">2.3&nbsp;&nbsp;</span>PCA</a></span></li></ul></li><li><span><a href=\"#Underlying-maths-of-PCA\" data-toc-modified-id=\"Underlying-maths-of-PCA-3\"><span class=\"toc-item-num\">3&nbsp;&nbsp;</span>Underlying maths of PCA</a></span><ul class=\"toc-item\"><li><span><a href=\"#Main-Equation\" data-toc-modified-id=\"Main-Equation-3.1\"><span class=\"toc-item-num\">3.1&nbsp;&nbsp;</span>Main Equation</a></span></li><li><span><a href=\"#Scores\" data-toc-modified-id=\"Scores-3.2\"><span class=\"toc-item-num\">3.2&nbsp;&nbsp;</span>Scores</a></span></li><li><span><a href=\"#PCs-(Loadings)\" data-toc-modified-id=\"PCs-(Loadings)-3.3\"><span class=\"toc-item-num\">3.3&nbsp;&nbsp;</span>PCs (Loadings)</a></span></li><li><span><a href=\"#PCs-as-Subtraction-Spectra\" data-toc-modified-id=\"PCs-as-Subtraction-Spectra-3.4\"><span class=\"toc-item-num\">3.4&nbsp;&nbsp;</span>PCs as Subtraction Spectra</a></span></li></ul></li><li><span><a href=\"#Calculation-of-PCA\" data-toc-modified-id=\"Calculation-of-PCA-4\"><span class=\"toc-item-num\">4&nbsp;&nbsp;</span>Calculation of PCA</a></span><ul class=\"toc-item\"><li><span><a href=\"#Initialisation\" data-toc-modified-id=\"Initialisation-4.1\"><span class=\"toc-item-num\">4.1&nbsp;&nbsp;</span>Initialisation</a></span></li><li><span><a href=\"#Calculation\" data-toc-modified-id=\"Calculation-4.2\"><span class=\"toc-item-num\">4.2&nbsp;&nbsp;</span>Calculation</a></span></li></ul></li><li><span><a href=\"#Summary\" data-toc-modified-id=\"Summary-5\"><span class=\"toc-item-num\">5&nbsp;&nbsp;</span>Summary</a></span></li><li><span><a href=\"#Acknowledgements\" data-toc-modified-id=\"Acknowledgements-6\"><span class=\"toc-item-num\">6&nbsp;&nbsp;</span>Acknowledgements</a></span></li><li><span><a href=\"#Conflicts-of-Interest\" data-toc-modified-id=\"Conflicts-of-Interest-7\"><span class=\"toc-item-num\">7&nbsp;&nbsp;</span>Conflicts of Interest</a></span></li><li><span><a href=\"#Funding\" data-toc-modified-id=\"Funding-8\"><span class=\"toc-item-num\">8&nbsp;&nbsp;</span>Funding</a></span></li><li><span><a href=\"#Appendices\" data-toc-modified-id=\"Appendices-9\"><span class=\"toc-item-num\">9&nbsp;&nbsp;</span>Appendices</a></span><ul class=\"toc-item\"><li><span><a href=\"#Splitting-positive-and-negative-contributions\" data-toc-modified-id=\"Splitting-positive-and-negative-contributions-9.1\"><span class=\"toc-item-num\">9.1&nbsp;&nbsp;</span>Splitting positive and negative contributions</a></span></li><li><span><a href=\"#Sanity-Checks\" data-toc-modified-id=\"Sanity-Checks-9.2\"><span class=\"toc-item-num\">9.2&nbsp;&nbsp;</span>Sanity Checks</a></span></li></ul></li></ul></div>"
   ]
  },
  {
   "cell_type": "markdown",
   "metadata": {
    "ExecuteTime": {
     "end_time": "2018-03-16T11:35:25.041236Z",
     "start_time": "2018-03-16T11:35:24.953580Z"
    }
   },
   "source": [
    "\n",
    "J Renwick Beattie$^1$ and Francis Esmond-White$^2$\n",
    "\n",
    "Corresponding Author: J Renwick Beattie, rene@jrenwickbeattie.com\n",
    "\n",
    "# Introduction.\n"
   ]
  },
  {
   "cell_type": "markdown",
   "metadata": {},
   "source": [
    "## Underlying concepts of PCA\n",
    "\n"
   ]
  },
  {
   "cell_type": "markdown",
   "metadata": {},
   "source": [
    "# Methods\n",
    "\n"
   ]
  },
  {
   "cell_type": "code",
   "execution_count": 1,
   "metadata": {
    "ExecuteTime": {
     "end_time": "2020-02-26T11:20:21.954696Z",
     "start_time": "2020-02-26T11:16:13.919136Z"
    },
    "scrolled": false
   },
   "outputs": [
    {
     "name": "stdout",
     "output_type": "stream",
     "text": [
      "Done\n"
     ]
    }
   ],
   "source": [
    "from src import graphicalPCA as g_PCA\n",
    "from src.file_locations import images_folder\n",
    "\n",
    "gPCA = g_PCA.graphicalPCA()\n",
    "print(\"Done\")"
   ]
  },
  {
   "cell_type": "markdown",
   "metadata": {},
   "source": [
    "\n",
    "# Underlying maths of PCA\n",
    "\n",
    "## Main Equation\n",
    "\n",
    "## Scores\n",
    "## PCs (Loadings)\n",
    "\n",
    "## PCs as Subtraction Spectra\n",
    "\n"
   ]
  },
  {
   "cell_type": "markdown",
   "metadata": {},
   "source": [
    "# Calculation of PCA\n",
    "\n",
    "## Initialisation\n",
    "\n",
    "\n",
    "## Calculation \n",
    "\n",
    "# Summary\n",
    "\n",
    "\n",
    "# Acknowledgements\n",
    "\n",
    "# Conflicts of Interest\n",
    "\n",
    "\n",
    "# Funding\n"
   ]
  },
  {
   "cell_type": "markdown",
   "metadata": {},
   "source": [
    "# Appendices\n",
    "## Splitting positive and negative contributions\n",
    "\n"
   ]
  },
  {
   "cell_type": "markdown",
   "metadata": {},
   "source": [
    "## Sanity Checks\n",
    "\n"
   ]
  },
  {
   "cell_type": "code",
   "execution_count": null,
   "metadata": {},
   "outputs": [],
   "source": []
  }
 ],
 "metadata": {
  "hide_input": false,
  "kernelspec": {
   "display_name": ".venv_pca",
   "language": "python",
   "name": ".venv_pca"
  },
  "language_info": {
   "codemirror_mode": {
    "name": "ipython",
    "version": 3
   },
   "file_extension": ".py",
   "mimetype": "text/x-python",
   "name": "python",
   "nbconvert_exporter": "python",
   "pygments_lexer": "ipython3",
   "version": "3.7.3"
  },
  "latex_envs": {
   "LaTeX_envs_menu_present": true,
   "autoclose": false,
   "autocomplete": true,
   "bibliofile": "biblio.bib",
   "cite_by": "apalike",
   "current_citInitial": 1,
   "eqLabelWithNumbers": true,
   "eqNumInitial": 1,
   "hotkeys": {
    "equation": "Ctrl-E",
    "itemize": "Ctrl-I"
   },
   "labels_anchors": false,
   "latex_user_defs": false,
   "report_style_numbering": false,
   "user_envs_cfg": false
  },
  "latex_metadata": {
   "affiliation": "J Renwick Beattie Consulting, Ballycastle, UK",
   "author": "J. Renwick Beattie",
   "title": "Visual PCA of Spectra"
  },
  "toc": {
   "nav_menu": {},
   "number_sections": true,
   "sideBar": true,
   "skip_h1_title": false,
   "title_cell": "Table of Contents",
   "title_sidebar": "Contents",
   "toc_cell": true,
   "toc_position": {},
   "toc_section_display": true,
   "toc_window_display": false
  },
  "varInspector": {
   "cols": {
    "lenName": 16,
    "lenType": 16,
    "lenVar": 40
   },
   "kernels_config": {
    "python": {
     "delete_cmd_postfix": "",
     "delete_cmd_prefix": "del ",
     "library": "var_list.py",
     "varRefreshCmd": "print(var_dic_list())"
    },
    "r": {
     "delete_cmd_postfix": ") ",
     "delete_cmd_prefix": "rm(",
     "library": "var_list.r",
     "varRefreshCmd": "cat(var_dic_list()) "
    }
   },
   "position": {
    "height": "660px",
    "left": "-1462.14px",
    "right": "20px",
    "top": "2329.86px",
    "width": "348px"
   },
   "types_to_exclude": [
    "module",
    "function",
    "builtin_function_or_method",
    "instance",
    "_Feature"
   ],
   "window_display": true
  }
 },
 "nbformat": 4,
 "nbformat_minor": 2
}
